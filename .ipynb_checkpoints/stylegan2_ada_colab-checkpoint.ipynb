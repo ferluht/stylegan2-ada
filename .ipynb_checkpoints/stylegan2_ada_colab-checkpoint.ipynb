{
 "cells": [
  {
   "cell_type": "markdown",
   "metadata": {
    "colab_type": "text",
    "id": "view-in-github"
   },
   "source": [
    "<a href=\"https://colab.research.google.com/github/ferluht/stylegan2-ada/blob/main/stylegan2_ada_colab.ipynb\" target=\"_parent\"><img src=\"https://colab.research.google.com/assets/colab-badge.svg\" alt=\"Open In Colab\"/></a>"
   ]
  },
  {
   "cell_type": "markdown",
   "metadata": {
    "id": "WcDHP4h-11Ii"
   },
   "source": [
    "##First, connect your Drive to Colab."
   ]
  },
  {
   "cell_type": "code",
   "execution_count": null,
   "metadata": {
    "colab": {
     "base_uri": "https://localhost:8080/"
    },
    "id": "lJazuNYurryY",
    "outputId": "fc3b0399-ede2-4c4c-8b0d-430cbd517ab0"
   },
   "outputs": [
    {
     "name": "stdout",
     "output_type": "stream",
     "text": [
      "Mounted at /content/drive\n"
     ]
    }
   ],
   "source": [
    "from google.colab import drive\n",
    "drive.mount('/content/drive')"
   ]
  },
  {
   "cell_type": "markdown",
   "metadata": {
    "id": "aadrbMyR2F00"
   },
   "source": [
    "##Install the repo\n",
    "**Only do this for the first time ever setting this up!**\n",
    "\n",
    "If this is your first time ever running this notebook, you’ll want to install my fork of StyleGAN2 to your Drive account. Make sure you have ample space on your Drive (I’d say at least 50GB). This will install the repo and add some dependecies (like transferring from FFHQ the first time).\n",
    "\n",
    "Every time after your first use of this notebook you’ll want to skip this cell and run the cell after this."
   ]
  },
  {
   "cell_type": "code",
   "execution_count": null,
   "metadata": {
    "colab": {
     "base_uri": "https://localhost:8080/"
    },
    "id": "IEOimTbht6K2",
    "outputId": "26d6dfba-f2db-4ad5-ed82-7f931c1c21e4"
   },
   "outputs": [
    {
     "name": "stdout",
     "output_type": "stream",
     "text": [
      "/content/drive/My Drive\n",
      "Cloning into 'stylegan2-ada'...\n",
      "remote: Enumerating objects: 65, done.\u001b[K\n",
      "remote: Total 65 (delta 0), reused 0 (delta 0), pack-reused 65\u001b[K\n",
      "Unpacking objects: 100% (65/65), done.\n",
      "/content/drive/My Drive/stylegan2-ada\n"
     ]
    }
   ],
   "source": [
    "%cd /content/drive/My\\ Drive/\n",
    "!git clone https://github.com/ferluht/stylegan2-ada-colab\n",
    "%cd /content/drive/My\\ Drive/stylegan2-ada-colab/stylegan2-ada"
   ]
  },
  {
   "cell_type": "markdown",
   "metadata": {
    "id": "NN2K68CE27py"
   },
   "source": [
    "##Picking up from a previous session\n",
    "If you already have the StyleGAN2 repo installed in Drive skip the above cell and run the following. This will make sure you have the latest version in case I make updates."
   ]
  },
  {
   "cell_type": "code",
   "execution_count": null,
   "metadata": {
    "colab": {
     "base_uri": "https://localhost:8080/"
    },
    "id": "J8WgjhRFsFJ0",
    "outputId": "f9d65aea-92f5-4fec-a6d5-c96573b553cd"
   },
   "outputs": [
    {
     "name": "stdout",
     "output_type": "stream",
     "text": [
      "/content/drive/My Drive/stylegan2-colab/stylegan2\n"
     ]
    }
   ],
   "source": [
    "%cd /content/drive/My\\ Drive/stylegan2-ada-colab/stylegan2-ada"
   ]
  },
  {
   "cell_type": "markdown",
   "metadata": {
    "id": "HSbEY2pT3TOb"
   },
   "source": [
    "##Make sure Tensorflow 1.15 is set\n",
    "Colab now defaults to Tensorflow 2. Make sure you run this cell to reset it to TF1."
   ]
  },
  {
   "cell_type": "code",
   "execution_count": null,
   "metadata": {
    "colab": {
     "base_uri": "https://localhost:8080/"
    },
    "id": "UMdpKY1XODz2",
    "outputId": "a86e80bd-cb5b-4c90-928a-647f25fc04ed"
   },
   "outputs": [
    {
     "name": "stdout",
     "output_type": "stream",
     "text": [
      "TensorFlow 1.x selected.\n"
     ]
    }
   ],
   "source": [
    "%tensorflow_version 1.x"
   ]
  },
  {
   "cell_type": "markdown",
   "metadata": {
    "id": "i1pIBZGzZxSA"
   },
   "source": [
    "##Converting your dataset\n",
    "StyleGAN requires you to convert your standard jpg or png images into a new format (.tfrecords). \n",
    "\n",
    "I recommend you upload your dataset to Google Drive and copy its path from the Drive folder in Colab and paste its path in the below cell.\n",
    "\n",
    "After the `create_from_images` argument you need to pass in two paths. The first path is where the .tfrecords files should be output (just edit the last part to have a unique name). The second path is to the directory of your images.\n",
    "\n",
    "The images must be square-shaped and they must all have the same power-of-two dimensions."
   ]
  },
  {
   "cell_type": "code",
   "execution_count": null,
   "metadata": {
    "colab": {
     "base_uri": "https://localhost:8080/",
     "height": 51
    },
    "id": "Ixjcx2-cbTDm",
    "outputId": "2cab51ea-6932-4352-8ed2-d121e681f301"
   },
   "outputs": [],
   "source": [
    "#2nd argument is where to put your tfrecords files\n",
    "#3rd should point at your image dataset\n",
    "!python dataset_tool.py create_from_images ./datasets/yebenya /content/drive/My\\ Drive/Datasets/yebenya/sq-1024"
   ]
  },
  {
   "cell_type": "markdown",
   "metadata": {
    "id": "iAfUNG60aRD1"
   },
   "source": [
    "##Training\n",
    "Note: this will require you to restart your Colab machine every 8–16 hours. You’ve been warned!\n",
    "\n",
    "This library is set up to automatically find your latest .pkl file so it should keep re-training and making progress.\n",
    "\n",
    "##Training Options\n",
    "\n",
    "`--data`\n",
    "\n",
    "This should be the name you used in the first path when converting your dataset.\n",
    "\n",
    "`--mirror-augment`\n",
    "\n",
    "Using this option loads some images at random mirrored horizontally (left-to-right). This might help if you have a very small dataset.\n",
    "\n",
    "`--snap`\n",
    "\n",
    "Snapshot interval\n",
    "\n",
    "`--resume`\n",
    "\n",
    "Weights to start with"
   ]
  },
  {
   "cell_type": "code",
   "execution_count": null,
   "metadata": {
    "id": "ZsxASNePvq1p"
   },
   "outputs": [],
   "source": [
    "!python train.py --outdir=./results --gpus=1 --snap=1 --data=./datasets/yebenya --mirror=1 --resume=./results/network-snapshot-000052.pkl"
   ]
  },
  {
   "cell_type": "markdown",
   "metadata": {
    "id": "yQ7U1ftuj_Dc"
   },
   "source": [
    "Once running, your training files will show up in the results folder."
   ]
  },
  {
   "cell_type": "markdown",
   "metadata": {
    "id": "F9vCDt9LRtXl"
   },
   "source": [
    "#Testing the model (generating images)\n",
    "The following command will generate 55 sample images from the model.\n",
    "\n",
    "##Options\n",
    "`--network`\n",
    "\n",
    "Make sure the `--network` argument points to your .pkl file. (My preferred method is to right click on the file in the Files pane to your left and choose `Copy Path`, then paste that into the argument after the `=` sign).\n",
    "\n",
    "`--seeds`\n",
    "\n",
    "This allows you to choose random seeds from the model. Remember that our input to StyleGAN is a 512-dimensional array. These seeds will generate those 512 values. Each seed will generate a different, random array. The same seed value will also always generate the same random array, so we can later use it for other purposes like interpolation.\n",
    "\n",
    "`--truncation-psi`\n",
    "\n",
    "Truncation is a special argument of StyleGAN. Essentially values that are closer to 0 will be more real than numbers further away from 0. I generally recommend a value between `0.5` and `1.0`. `0.5` will give you pretty \"realistic\" results, while `1.0` is likely to give you \"weirder\" results."
   ]
  },
  {
   "cell_type": "code",
   "execution_count": null,
   "metadata": {
    "id": "E-OjsO84PeiQ"
   },
   "outputs": [],
   "source": [
    "!python generate.py --outdir=./yebenya --trunc=0.7 --seeds=10-820 --network=./results/network-snapshot-000052.pkl"
   ]
  }
 ],
 "metadata": {
  "accelerator": "GPU",
  "colab": {
   "collapsed_sections": [],
   "include_colab_link": true,
   "machine_shape": "hm",
   "name": "stylegan2-ada-colab.ipynb",
   "provenance": []
  },
  "kernelspec": {
   "display_name": "Python 3",
   "language": "python",
   "name": "python3"
  },
  "language_info": {
   "codemirror_mode": {
    "name": "ipython",
    "version": 3
   },
   "file_extension": ".py",
   "mimetype": "text/x-python",
   "name": "python",
   "nbconvert_exporter": "python",
   "pygments_lexer": "ipython3",
   "version": "3.7.6"
  }
 },
 "nbformat": 4,
 "nbformat_minor": 1
}
